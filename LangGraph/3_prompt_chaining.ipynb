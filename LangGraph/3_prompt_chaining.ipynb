{
 "cells": [
  {
   "cell_type": "code",
   "execution_count": 1,
   "id": "e4aee3a1",
   "metadata": {},
   "outputs": [],
   "source": [
    "from langgraph.graph import StateGraph, START, END\n",
    "from langchain_openai import ChatOpenAI\n",
    "from typing import TypedDict\n",
    "from dotenv import load_dotenv"
   ]
  },
  {
   "cell_type": "code",
   "execution_count": 2,
   "id": "c0d75b89",
   "metadata": {},
   "outputs": [
    {
     "data": {
      "text/plain": [
       "True"
      ]
     },
     "execution_count": 2,
     "metadata": {},
     "output_type": "execute_result"
    }
   ],
   "source": [
    "load_dotenv()  # take environment variables from .env."
   ]
  },
  {
   "cell_type": "code",
   "execution_count": 5,
   "id": "d17f34ae",
   "metadata": {},
   "outputs": [],
   "source": [
    "model = ChatOpenAI()"
   ]
  },
  {
   "cell_type": "code",
   "execution_count": 3,
   "id": "01f83047",
   "metadata": {},
   "outputs": [],
   "source": [
    "class BlogState(TypedDict):\n",
    "    title : str\n",
    "    outline : str\n",
    "    content : str\n"
   ]
  },
  {
   "cell_type": "code",
   "execution_count": 7,
   "id": "ac3cdb13",
   "metadata": {},
   "outputs": [],
   "source": [
    "def create_outline(state: BlogState) -> BlogState:\n",
    "    #fetch title \n",
    "    title = state['title']\n",
    "\n",
    "    #call llm gen outline\n",
    "    prompt = f'Generate an outline for a blog on the topic - {title}'\n",
    "    outline = model.invoke(prompt).content\n",
    "\n",
    "    #update state\n",
    "    state['outline'] = outline\n",
    "    return state"
   ]
  },
  {
   "cell_type": "code",
   "execution_count": 8,
   "id": "e54e6fa2",
   "metadata": {},
   "outputs": [],
   "source": [
    "def create_blog(state : BlogState) -> BlogState:\n",
    "\n",
    "    #fetch title and outline\n",
    "    title = state['title']\n",
    "    outline = state['outline']\n",
    "\n",
    "    prompt = f'Write a detailed blog on the topic - {title} following the outline - \\n{outline}'\n",
    "\n",
    "    content = model.invoke(prompt).content\n",
    "\n",
    "    #update state\n",
    "    state['content'] = content\n",
    "    return state\n"
   ]
  },
  {
   "cell_type": "code",
   "execution_count": 12,
   "id": "41fd656c",
   "metadata": {},
   "outputs": [],
   "source": [
    "graph = StateGraph(BlogState)\n",
    " \n",
    "#nodes \n",
    "graph.add_node('create_outline',create_outline)\n",
    "graph.add_node('create_blog',create_blog)\n",
    "\n",
    "#edges\n",
    "graph.add_edge(START,'create_outline')\n",
    "graph.add_edge('create_outline','create_blog')\n",
    "graph.add_edge('create_blog',END)\n",
    "\n",
    "workflow = graph.compile()\n"
   ]
  },
  {
   "cell_type": "code",
   "execution_count": 13,
   "id": "b4602132",
   "metadata": {},
   "outputs": [
    {
     "name": "stdout",
     "output_type": "stream",
     "text": [
      "{'title': 'Rise of AI in India', 'outline': 'I. Introduction\\n    A. Brief overview of AI technology\\n    B. Growing significance of AI in India\\n    C. Purpose and scope of the blog\\n\\nII. Historical perspective on AI in India\\n    A. Early adoption and development of AI technology in India\\n    B. Key milestones and achievements in the field of AI\\n    C. Challenges faced in the early stages of AI development in India\\n\\nIII. Current state of AI in India\\n    A. Overview of the AI industry in India\\n    B. Key players and companies leading the AI revolution in India\\n    C. Growth of AI startups and innovation hubs in the country\\n\\nIV. Applications of AI in India\\n    A. AI in healthcare\\n    B. AI in agriculture\\n    C. AI in education\\n    D. AI in finance and banking\\n    E. AI in e-commerce and retail\\n    F. AI in manufacturing and industry\\n\\nV. Impact of AI on the Indian economy and society\\n    A. Job creation and displacement\\n    B. Economic growth and productivity\\n    C. Ethical and social implications of AI adoption in India\\n\\nVI. Government initiatives and policies related to AI in India\\n    A. National AI strategy and initiatives\\n    B. Funding and support for AI research and development\\n    C. Regulation and ethics in AI technology\\n\\nVII. Future trends and implications of AI in India\\n    A. Potential growth and opportunities in the AI industry\\n    B. Challenges and concerns for AI adoption in India\\n    C. Predictions for the future of AI technology in India\\n\\nVIII. Conclusion\\n    A. Recap of key points discussed in the blog\\n    B. Final thoughts on the rise of AI in India\\n    C. Call to action for further exploration of AI technology in India.', 'content': 'AI, or Artificial Intelligence, is a rapidly growing field in the world of technology. It refers to the development of computer systems that can perform tasks that normally require human intelligence, such as speech recognition, visual perception, decision-making, and language translation. In recent years, AI has become increasingly significant in India, as the country aims to be at the forefront of the global technological revolution. This blog will delve into the rise of AI in India, exploring its historical perspective, current state, applications, impact on the economy and society, government initiatives, future trends, and implications.\\n\\nII. Historical perspective on AI in India\\n\\nAI technology has a long history in India, with early adoption and development dating back to the 1980s. The Indian Institute of Technology (IIT) Madras, for example, was one of the pioneers in AI research in the country, developing expert systems for various applications. Key milestones in the field of AI in India include the establishment of research labs and centers dedicated to AI, such as the Center for AI and Robotics (CAIR) at the Defense Research and Development Organization (DRDO).\\n\\nChallenges faced in the early stages of AI development in India included limited resources and funding, a shortage of skilled professionals in the field, and a lack of industry collaboration. Despite these challenges, India has made significant progress in AI research and development over the years, establishing itself as a key player in the global AI landscape.\\n\\nIII. Current state of AI in India\\n\\nThe AI industry in India has witnessed tremendous growth in recent years, with a number of key players and companies leading the AI revolution in the country. Indian startups such as Niki.ai, Haptik, and SigTuple have made significant strides in AI innovation, developing cutting-edge solutions for various industries.\\n\\nThe growth of AI startups and innovation hubs in India has also been fueled by government initiatives and policies aimed at fostering a conducive environment for AI research and development. The government has launched initiatives such as the National AI Mission, designed to accelerate AI adoption in the country and support the growth of the AI industry.\\n\\nIV. Applications of AI in India\\n\\nAI technology is being applied across various sectors in India, including healthcare, agriculture, education, finance and banking, e-commerce and retail, and manufacturing and industry. In healthcare, AI is being used for tasks such as medical imaging, diagnostics, and personalized medicine. In agriculture, AI is helping farmers improve crop yield, soil quality, and pest management. In education, AI is being utilized for personalized learning, adaptive assessments, and teacher training.\\n\\nV. Impact of AI on the Indian economy and society\\n\\nThe adoption of AI technology in India has the potential to create new job opportunities, drive economic growth, and improve productivity. However, there are also concerns about job displacement, as automation and AI technologies replace certain human tasks. Ethical and social implications of AI adoption in India include issues related to data privacy, bias in AI algorithms, and the impact on marginalized communities.\\n\\nVI. Government initiatives and policies related to AI in India\\n\\nThe Indian government has taken several steps to promote the development and adoption of AI technologies in the country. The National AI Strategy aims to position India as a global leader in AI research and development, while initiatives such as the AI for Research Program provide funding and support for AI projects. Regulation and ethics in AI technology are also a key focus for the government, with guidelines being developed to ensure responsible AI adoption.\\n\\nVII. Future trends and implications of AI in India\\n\\nThe future of AI in India looks bright, with potential growth and opportunities in the AI industry. Challenges and concerns for AI adoption in the country include the need for more skilled professionals in the field, regulatory challenges, and ethical considerations. Predictions for the future of AI technology in India include increased adoption of AI in various sectors, the development of AI-powered solutions for social impact, and the emergence of new business models based on AI technologies.\\n\\nVIII. Conclusion\\n\\nIn conclusion, the rise of AI in India presents tremendous opportunities for innovation and growth. As the country continues to invest in AI research and development, there is vast potential for the technology to transform industries, improve efficiency, and enhance the quality of life for citizens. It is essential for stakeholders in India to collaborate, innovate, and address challenges related to AI adoption, in order to realize the full potential of AI technology in the country.'}\n"
     ]
    }
   ],
   "source": [
    "initial_state = {'title': 'Rise of AI in India'}\n",
    "final_state = workflow.invoke(initial_state)\n",
    "print(final_state)\n"
   ]
  },
  {
   "cell_type": "code",
   "execution_count": 14,
   "id": "33596ddd",
   "metadata": {},
   "outputs": [
    {
     "name": "stdout",
     "output_type": "stream",
     "text": [
      "I. Introduction\n",
      "    A. Brief overview of AI technology\n",
      "    B. Growing significance of AI in India\n",
      "    C. Purpose and scope of the blog\n",
      "\n",
      "II. Historical perspective on AI in India\n",
      "    A. Early adoption and development of AI technology in India\n",
      "    B. Key milestones and achievements in the field of AI\n",
      "    C. Challenges faced in the early stages of AI development in India\n",
      "\n",
      "III. Current state of AI in India\n",
      "    A. Overview of the AI industry in India\n",
      "    B. Key players and companies leading the AI revolution in India\n",
      "    C. Growth of AI startups and innovation hubs in the country\n",
      "\n",
      "IV. Applications of AI in India\n",
      "    A. AI in healthcare\n",
      "    B. AI in agriculture\n",
      "    C. AI in education\n",
      "    D. AI in finance and banking\n",
      "    E. AI in e-commerce and retail\n",
      "    F. AI in manufacturing and industry\n",
      "\n",
      "V. Impact of AI on the Indian economy and society\n",
      "    A. Job creation and displacement\n",
      "    B. Economic growth and productivity\n",
      "    C. Ethical and social implications of AI adoption in India\n",
      "\n",
      "VI. Government initiatives and policies related to AI in India\n",
      "    A. National AI strategy and initiatives\n",
      "    B. Funding and support for AI research and development\n",
      "    C. Regulation and ethics in AI technology\n",
      "\n",
      "VII. Future trends and implications of AI in India\n",
      "    A. Potential growth and opportunities in the AI industry\n",
      "    B. Challenges and concerns for AI adoption in India\n",
      "    C. Predictions for the future of AI technology in India\n",
      "\n",
      "VIII. Conclusion\n",
      "    A. Recap of key points discussed in the blog\n",
      "    B. Final thoughts on the rise of AI in India\n",
      "    C. Call to action for further exploration of AI technology in India.\n"
     ]
    }
   ],
   "source": [
    "print(final_state['outline'])"
   ]
  },
  {
   "cell_type": "code",
   "execution_count": 15,
   "id": "ee5ec98d",
   "metadata": {},
   "outputs": [
    {
     "name": "stdout",
     "output_type": "stream",
     "text": [
      "AI, or Artificial Intelligence, is a rapidly growing field in the world of technology. It refers to the development of computer systems that can perform tasks that normally require human intelligence, such as speech recognition, visual perception, decision-making, and language translation. In recent years, AI has become increasingly significant in India, as the country aims to be at the forefront of the global technological revolution. This blog will delve into the rise of AI in India, exploring its historical perspective, current state, applications, impact on the economy and society, government initiatives, future trends, and implications.\n",
      "\n",
      "II. Historical perspective on AI in India\n",
      "\n",
      "AI technology has a long history in India, with early adoption and development dating back to the 1980s. The Indian Institute of Technology (IIT) Madras, for example, was one of the pioneers in AI research in the country, developing expert systems for various applications. Key milestones in the field of AI in India include the establishment of research labs and centers dedicated to AI, such as the Center for AI and Robotics (CAIR) at the Defense Research and Development Organization (DRDO).\n",
      "\n",
      "Challenges faced in the early stages of AI development in India included limited resources and funding, a shortage of skilled professionals in the field, and a lack of industry collaboration. Despite these challenges, India has made significant progress in AI research and development over the years, establishing itself as a key player in the global AI landscape.\n",
      "\n",
      "III. Current state of AI in India\n",
      "\n",
      "The AI industry in India has witnessed tremendous growth in recent years, with a number of key players and companies leading the AI revolution in the country. Indian startups such as Niki.ai, Haptik, and SigTuple have made significant strides in AI innovation, developing cutting-edge solutions for various industries.\n",
      "\n",
      "The growth of AI startups and innovation hubs in India has also been fueled by government initiatives and policies aimed at fostering a conducive environment for AI research and development. The government has launched initiatives such as the National AI Mission, designed to accelerate AI adoption in the country and support the growth of the AI industry.\n",
      "\n",
      "IV. Applications of AI in India\n",
      "\n",
      "AI technology is being applied across various sectors in India, including healthcare, agriculture, education, finance and banking, e-commerce and retail, and manufacturing and industry. In healthcare, AI is being used for tasks such as medical imaging, diagnostics, and personalized medicine. In agriculture, AI is helping farmers improve crop yield, soil quality, and pest management. In education, AI is being utilized for personalized learning, adaptive assessments, and teacher training.\n",
      "\n",
      "V. Impact of AI on the Indian economy and society\n",
      "\n",
      "The adoption of AI technology in India has the potential to create new job opportunities, drive economic growth, and improve productivity. However, there are also concerns about job displacement, as automation and AI technologies replace certain human tasks. Ethical and social implications of AI adoption in India include issues related to data privacy, bias in AI algorithms, and the impact on marginalized communities.\n",
      "\n",
      "VI. Government initiatives and policies related to AI in India\n",
      "\n",
      "The Indian government has taken several steps to promote the development and adoption of AI technologies in the country. The National AI Strategy aims to position India as a global leader in AI research and development, while initiatives such as the AI for Research Program provide funding and support for AI projects. Regulation and ethics in AI technology are also a key focus for the government, with guidelines being developed to ensure responsible AI adoption.\n",
      "\n",
      "VII. Future trends and implications of AI in India\n",
      "\n",
      "The future of AI in India looks bright, with potential growth and opportunities in the AI industry. Challenges and concerns for AI adoption in the country include the need for more skilled professionals in the field, regulatory challenges, and ethical considerations. Predictions for the future of AI technology in India include increased adoption of AI in various sectors, the development of AI-powered solutions for social impact, and the emergence of new business models based on AI technologies.\n",
      "\n",
      "VIII. Conclusion\n",
      "\n",
      "In conclusion, the rise of AI in India presents tremendous opportunities for innovation and growth. As the country continues to invest in AI research and development, there is vast potential for the technology to transform industries, improve efficiency, and enhance the quality of life for citizens. It is essential for stakeholders in India to collaborate, innovate, and address challenges related to AI adoption, in order to realize the full potential of AI technology in the country.\n"
     ]
    }
   ],
   "source": [
    "print(final_state['content'])"
   ]
  },
  {
   "cell_type": "code",
   "execution_count": null,
   "id": "f390ce1f",
   "metadata": {},
   "outputs": [],
   "source": []
  }
 ],
 "metadata": {
  "kernelspec": {
   "display_name": "langchain-env",
   "language": "python",
   "name": "python3"
  },
  "language_info": {
   "codemirror_mode": {
    "name": "ipython",
    "version": 3
   },
   "file_extension": ".py",
   "mimetype": "text/x-python",
   "name": "python",
   "nbconvert_exporter": "python",
   "pygments_lexer": "ipython3",
   "version": "3.12.7"
  }
 },
 "nbformat": 4,
 "nbformat_minor": 5
}
