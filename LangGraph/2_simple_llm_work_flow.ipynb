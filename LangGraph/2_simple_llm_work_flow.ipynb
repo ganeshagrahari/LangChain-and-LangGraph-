{
 "cells": [
  {
   "cell_type": "code",
   "execution_count": 7,
   "id": "b9cca4ae",
   "metadata": {},
   "outputs": [],
   "source": [
    "from langgraph.graph import StateGraph, START, END\n",
    "from langchain_openai import ChatOpenAI\n",
    "from typing import TypedDict\n",
    "from dotenv import load_dotenv"
   ]
  },
  {
   "cell_type": "code",
   "execution_count": 2,
   "id": "c5af7720",
   "metadata": {},
   "outputs": [
    {
     "data": {
      "text/plain": [
       "True"
      ]
     },
     "execution_count": 2,
     "metadata": {},
     "output_type": "execute_result"
    }
   ],
   "source": [
    "load_dotenv()"
   ]
  },
  {
   "cell_type": "code",
   "execution_count": 3,
   "id": "272462e0",
   "metadata": {},
   "outputs": [],
   "source": [
    "model = ChatOpenAI()"
   ]
  },
  {
   "cell_type": "code",
   "execution_count": 4,
   "id": "e31f8203",
   "metadata": {},
   "outputs": [],
   "source": [
    "# create a state\n",
    "class LLMState(TypedDict):\n",
    "    question : str\n",
    "    answer : str"
   ]
  },
  {
   "cell_type": "code",
   "execution_count": 6,
   "id": "8660d799",
   "metadata": {},
   "outputs": [],
   "source": [
    "def llm_qa(state : LLMState) -> LLMState:\n",
    "    #extract question from state\n",
    "    question = state['question']\n",
    "\n",
    "    #form a prompt\n",
    "    prompt = (f\"Answer the following question : {question}\")\n",
    "\n",
    "    #ask that question to the llm\n",
    "    answer= model.invoke(prompt).content\n",
    "\n",
    "    #update the  answer in the state\n",
    "    state['answer'] = answer\n",
    "\n",
    "    return state\n",
    "\n"
   ]
  },
  {
   "cell_type": "code",
   "execution_count": 9,
   "id": "2b8f4673",
   "metadata": {},
   "outputs": [],
   "source": [
    "#create our graph\n",
    "graph = StateGraph(LLMState)\n",
    "\n",
    "#add nodes \n",
    "graph.add_node(\"llm_qa\",llm_qa)\n",
    "\n",
    "#add edges\n",
    "graph.add_edge(START, 'llm_qa')\n",
    "graph.add_edge('llm_qa', END)\n",
    "\n",
    "#compile graph\n",
    "workflow = graph.compile()"
   ]
  },
  {
   "cell_type": "code",
   "execution_count": 10,
   "id": "28e9a632",
   "metadata": {},
   "outputs": [
    {
     "name": "stdout",
     "output_type": "stream",
     "text": [
      "{'question': 'How far is India from USA?', 'answer': 'The distance between India and the USA varies depending on the locations being compared. On average, the distance between the two countries is around 8,000 miles (12,875 kilometers) when measuring from major cities like New York City to New Delhi.'}\n"
     ]
    }
   ],
   "source": [
    "#excute\n",
    "initial_state  = {'question': \"How far is India from USA?\"}\n",
    "final_state = workflow.invoke(initial_state)\n",
    "print(final_state)"
   ]
  },
  {
   "cell_type": "code",
   "execution_count": null,
   "id": "5baeb72a",
   "metadata": {},
   "outputs": [],
   "source": []
  }
 ],
 "metadata": {
  "kernelspec": {
   "display_name": "langchain-env",
   "language": "python",
   "name": "python3"
  },
  "language_info": {
   "codemirror_mode": {
    "name": "ipython",
    "version": 3
   },
   "file_extension": ".py",
   "mimetype": "text/x-python",
   "name": "python",
   "nbconvert_exporter": "python",
   "pygments_lexer": "ipython3",
   "version": "3.12.7"
  }
 },
 "nbformat": 4,
 "nbformat_minor": 5
}
